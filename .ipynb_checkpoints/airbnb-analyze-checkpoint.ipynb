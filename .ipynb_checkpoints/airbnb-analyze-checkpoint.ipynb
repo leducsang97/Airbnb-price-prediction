{
 "cells": [
  {
   "cell_type": "code",
   "execution_count": 1,
   "metadata": {},
   "outputs": [
    {
     "data": {
      "text/html": [
       "<script type=\"text/javascript\">window.PlotlyConfig = {MathJaxConfig: 'local'};</script><script type=\"text/javascript\">if (window.MathJax) {MathJax.Hub.Config({SVG: {font: \"STIX-Web\"}});}</script><script>requirejs.config({paths: { 'plotly': ['https://cdn.plot.ly/plotly-latest.min']},});if(!window._Plotly) {require(['plotly'],function(plotly) {window._Plotly=plotly;});}</script>"
      ],
      "text/vnd.plotly.v1+html": [
       "<script type=\"text/javascript\">window.PlotlyConfig = {MathJaxConfig: 'local'};</script><script type=\"text/javascript\">if (window.MathJax) {MathJax.Hub.Config({SVG: {font: \"STIX-Web\"}});}</script><script>requirejs.config({paths: { 'plotly': ['https://cdn.plot.ly/plotly-latest.min']},});if(!window._Plotly) {require(['plotly'],function(plotly) {window._Plotly=plotly;});}</script>"
      ]
     },
     "metadata": {},
     "output_type": "display_data"
    }
   ],
   "source": [
    "import os\n",
    "import pandas as pd\n",
    "import numpy as np\n",
    "from sklearn.metrics import mean_squared_error\n",
    "import pylab as pl\n",
    "from pylab import rcParams\n",
    "rcParams['figure.figsize'] = 12, 8\n",
    "import matplotlib.pyplot as pl\n",
    "import seaborn as sns\n",
    "from IPython.display import Image\n",
    "import plotly.plotly as py\n",
    "from plotly.offline import download_plotlyjs, init_notebook_mode, plot, iplot\n",
    "init_notebook_mode(connected=True)\n",
    "import plotly.graph_objs as go\n",
    "import matplotlib.pyplot as plt"
   ]
  },
  {
   "cell_type": "code",
   "execution_count": 2,
   "metadata": {},
   "outputs": [
    {
     "data": {
      "text/plain": [
       "array(['log_price', 'accommodates', 'number_of_reviews', 'bedrooms',\n",
       "       'Apartment', 'NYC', 'Real Bed', 'House', 'SF', 'DC', 'LA',\n",
       "       'Condominium', 'Chicago', 'Loft', 'Townhouse', 'Boston', 'Futon',\n",
       "       'Hostel', 'Guest suite', 'Bed & Breakfast', 'Bungalow',\n",
       "       'Guesthouse', 'Pull-out Sofa', 'Dorm', 'Other', 'Couch',\n",
       "       'Camper/RV', 'Villa', 'Airbed', 'Boutique hotel', 'Timeshare',\n",
       "       'In-law', 'Boat', 'Serviced apartment', 'Castle', 'Cabin',\n",
       "       'Treehouse', 'Tipi', 'Vacation home', 'Tent', 'Hut',\n",
       "       'Casa particular', 'Chalet', 'Yurt', 'Earth House',\n",
       "       'Parking Space', 'Train', 'Cave', 'Island'], dtype=object)"
      ]
     },
     "execution_count": 2,
     "metadata": {},
     "output_type": "execute_result"
    }
   ],
   "source": [
    "data = pd.read_csv('cleaned_airbnb.csv')"
   ]
  },
  {
   "cell_type": "markdown",
   "metadata": {},
   "source": [
    "# Objective"
   ]
  },
  {
   "cell_type": "markdown",
   "metadata": {},
   "source": [
    "This notebook is motivated by the professor Sage's in class project. \n",
    "In this project, I will use Linear Regression (LR), Ridge Regression (Ridge), and Lasso Regression (Lasso) to predict the airbnb price based on the data I have.\n",
    "\n",
    "The dataset is from Kaggle's [Airbnb Price Prediction](https://www.kaggle.com/stevezhenghp/airbnb-price-prediction). This is not a competition so I could not get the score from Kaggle."
   ]
  },
  {
   "cell_type": "markdown",
   "metadata": {},
   "source": [
    "# Explore Data"
   ]
  },
  {
   "cell_type": "markdown",
   "metadata": {},
   "source": [
    "I have cleaned the dataset in airbnb notebook. Please see airbnb.ipynb for more information. The shape of the data is:"
   ]
  },
  {
   "cell_type": "code",
   "execution_count": 28,
   "metadata": {},
   "outputs": [
    {
     "data": {
      "text/plain": [
       "(73918, 49)"
      ]
     },
     "execution_count": 28,
     "metadata": {},
     "output_type": "execute_result"
    }
   ],
   "source": [
    "data.shape"
   ]
  },
  {
   "cell_type": "markdown",
   "metadata": {},
   "source": [
    "with these explanatory variables:"
   ]
  },
  {
   "cell_type": "code",
   "execution_count": 29,
   "metadata": {},
   "outputs": [
    {
     "data": {
      "text/plain": [
       "array(['log_price', 'accommodates', 'number_of_reviews', 'bedrooms',\n",
       "       'Apartment', 'NYC', 'Real Bed', 'House', 'SF', 'DC', 'LA',\n",
       "       'Condominium', 'Chicago', 'Loft', 'Townhouse', 'Boston', 'Futon',\n",
       "       'Hostel', 'Guest suite', 'Bed & Breakfast', 'Bungalow',\n",
       "       'Guesthouse', 'Pull-out Sofa', 'Dorm', 'Other', 'Couch',\n",
       "       'Camper/RV', 'Villa', 'Airbed', 'Boutique hotel', 'Timeshare',\n",
       "       'In-law', 'Boat', 'Serviced apartment', 'Castle', 'Cabin',\n",
       "       'Treehouse', 'Tipi', 'Vacation home', 'Tent', 'Hut',\n",
       "       'Casa particular', 'Chalet', 'Yurt', 'Earth House',\n",
       "       'Parking Space', 'Train', 'Cave', 'Island'], dtype=object)"
      ]
     },
     "execution_count": 29,
     "metadata": {},
     "output_type": "execute_result"
    }
   ],
   "source": [
    "data.columns.values"
   ]
  },
  {
   "cell_type": "markdown",
   "metadata": {},
   "source": [
    "import packages and libraries"
   ]
  },
  {
   "cell_type": "code",
   "execution_count": 30,
   "metadata": {},
   "outputs": [],
   "source": [
    "from sklearn.ensemble import RandomForestClassifier\n",
    "from sklearn.metrics import precision_recall_curve\n",
    "from sklearn.model_selection import train_test_split\n",
    "#from sklearn import cross_validation\n",
    "from sklearn.neighbors import KNeighborsClassifier\n",
    "from sklearn.ensemble import RandomForestClassifier\n",
    "from sklearn.linear_model import LogisticRegression\n",
    "from sklearn.metrics import roc_curve, auc\n",
    "import warnings\n",
    "warnings.filterwarnings('ignore')\n"
   ]
  },
  {
   "cell_type": "markdown",
   "metadata": {},
   "source": [
    "We create train and test dataset randomly from our dataset."
   ]
  },
  {
   "cell_type": "code",
   "execution_count": 32,
   "metadata": {},
   "outputs": [],
   "source": [
    "x = data.drop(['log_price'], axis = 1)\n",
    "y = data.log_price\n",
    "\n",
    "x_train,x_test,y_train,y_test = train_test_split(x,y,random_state = 0)"
   ]
  },
  {
   "cell_type": "markdown",
   "metadata": {},
   "source": [
    "## Linear regression"
   ]
  },
  {
   "cell_type": "code",
   "execution_count": 34,
   "metadata": {},
   "outputs": [
    {
     "data": {
      "text/plain": [
       "188840803.34370694"
      ]
     },
     "execution_count": 34,
     "metadata": {},
     "output_type": "execute_result"
    }
   ],
   "source": [
    "from sklearn.linear_model import LinearRegression\n",
    "reg = LinearRegression().fit(x_train, y_train)\n",
    "mean_squared_error(y_test, reg.predict(x_test))"
   ]
  },
  {
   "cell_type": "code",
   "execution_count": 35,
   "metadata": {},
   "outputs": [
    {
     "data": {
      "text/plain": [
       "-367311794.94131994"
      ]
     },
     "execution_count": 35,
     "metadata": {},
     "output_type": "execute_result"
    }
   ],
   "source": [
    "reg.score(x_test, y_test)"
   ]
  },
  {
   "cell_type": "markdown",
   "metadata": {},
   "source": [
    "The linear regression gives us a terrible prediction. It gives us MSE of 188840803 and R^2 of -367311794. This is the problem of overfitting. We need other model that can solve overfitting problem."
   ]
  },
  {
   "cell_type": "markdown",
   "metadata": {},
   "source": [
    "## Lasso Regression"
   ]
  },
  {
   "cell_type": "code",
   "execution_count": 38,
   "metadata": {},
   "outputs": [
    {
     "data": {
      "text/plain": [
       "0.39940059674722306"
      ]
     },
     "execution_count": 38,
     "metadata": {},
     "output_type": "execute_result"
    }
   ],
   "source": [
    "from sklearn import linear_model\n",
    "lasso = linear_model.Lasso(alpha=0.5).fit(x_train, y_train)\n",
    "lasso.predict(x_test)\n",
    "mean_squared_error(y_test, lasso.predict(x_test))"
   ]
  },
  {
   "cell_type": "code",
   "execution_count": 39,
   "metadata": {},
   "outputs": [
    {
     "data": {
      "text/plain": [
       "0.2231310824057331"
      ]
     },
     "execution_count": 39,
     "metadata": {},
     "output_type": "execute_result"
    }
   ],
   "source": [
    "lasso.score(x_test, y_test)"
   ]
  },
  {
   "cell_type": "markdown",
   "metadata": {},
   "source": [
    "Lasso gives us a big improvement in both MSE and R^2. The MSE is 0.3994 and R^2 is 0.2231. However, this result is still pretty bad. We currently set lambda to 0.5. This might be the problem. To solve this, we will run a loop to find which is the best lambda for this dataset"
   ]
  },
  {
   "cell_type": "code",
   "execution_count": 53,
   "metadata": {},
   "outputs": [
    {
     "data": {
      "image/png": "[encoded data removed]",
      "text/plain": [
       "<Figure size 432x288 with 1 Axes>"
      ]
     },
     "metadata": {
      "needs_background": "light"
     },
     "output_type": "display_data"
    }
   ],
   "source": [
    "lasso_coef = []\n",
    "index =[]\n",
    "smallest_lasso_mse = 100000\n",
    "smallest_lasso = 0\n",
    "biggest_lasso_mse = 0\n",
    "biggest_lasso = 0\n",
    "\n",
    "for i in range (100):\n",
    "    lasso = linear_model.Lasso(alpha=0.01*i).fit(x_train, y_train)\n",
    "    lasso.predict(x_test)\n",
    "    mse = mean_squared_error(y_test, lasso.predict(x_test))\n",
    "    lasso_coef.append(mse)\n",
    "    index.append(0.01*i)\n",
    "    if smallest_lasso_mse > mse:\n",
    "        smallest_lasso_mse = mse\n",
    "        smallest_lasso = 0.01*i\n",
    "    if biggest_lasso_mse < mse:\n",
    "        biggest_lasso_mse = mse\n",
    "        biggest_lasso = 0.01*i\n",
    "    plt.plot(index, lasso_coef, 'ro')"
   ]
  },
  {
   "cell_type": "code",
   "execution_count": 54,
   "metadata": {},
   "outputs": [
    {
     "data": {
      "text/plain": [
       "0.0"
      ]
     },
     "execution_count": 54,
     "metadata": {},
     "output_type": "execute_result"
    }
   ],
   "source": [
    "smallest_lasso"
   ]
  },
  {
   "cell_type": "markdown",
   "metadata": {},
   "source": [
    "This shows that the smallest MSE happens when lambda is close to zero. We want to discover more "
   ]
  },
  {
   "cell_type": "code",
   "execution_count": 52,
   "metadata": {},
   "outputs": [
    {
     "data": {
      "text/plain": [
       "[<matplotlib.lines.Line2D at 0x1a27d507b8>]"
      ]
     },
     "execution_count": 52,
     "metadata": {},
     "output_type": "execute_result"
    },
    {
     "data": {
      "image/png": "[encoded data removed]",
      "text/plain": [
       "<Figure size 432x288 with 1 Axes>"
      ]
     },
     "metadata": {
      "needs_background": "light"
     },
     "output_type": "display_data"
    }
   ],
   "source": [
    "plt.plot(index[90:99], lasso_coef[90:99], 'ro')"
   ]
  },
  {
   "cell_type": "code",
   "execution_count": 55,
   "metadata": {},
   "outputs": [
    {
     "data": {
      "text/plain": [
       "0.88"
      ]
     },
     "execution_count": 55,
     "metadata": {},
     "output_type": "execute_result"
    }
   ],
   "source": [
    "biggest_lasso"
   ]
  },
  {
   "cell_type": "markdown",
   "metadata": {},
   "source": [
    "The MSE will be the same if lambda > 0.88. This is the result of big punishment that our model scontains no parameter. "
   ]
  },
  {
   "cell_type": "markdown",
   "metadata": {},
   "source": [
    "# Ridge Regression"
   ]
  },
  {
   "cell_type": "code",
   "execution_count": 56,
   "metadata": {},
   "outputs": [
    {
     "data": {
      "text/plain": [
       "0.31621901942811903"
      ]
     },
     "execution_count": 56,
     "metadata": {},
     "output_type": "execute_result"
    }
   ],
   "source": [
    "from sklearn.linear_model import Ridge\n",
    "ridge = Ridge(alpha=10.0).fit(x_train,y_train)\n",
    "ridge.predict(x_test)\n",
    "mean_squared_error(y_test, ridge.predict(x_test))"
   ]
  },
  {
   "cell_type": "code",
   "execution_count": 64,
   "metadata": {},
   "outputs": [
    {
     "data": {
      "text/plain": [
       "[<matplotlib.lines.Line2D at 0x1a27a79d68>]"
      ]
     },
     "execution_count": 64,
     "metadata": {},
     "output_type": "execute_result"
    },
    {
     "data": {
      "image/png": "[encoded data removed]",
      "text/plain": [
       "<Figure size 432x288 with 1 Axes>"
      ]
     },
     "metadata": {
      "needs_background": "light"
     },
     "output_type": "display_data"
    }
   ],
   "source": [
    "ridge_coef = []\n",
    "index_100 =[]\n",
    "smallest_ridge_mse = 100000\n",
    "smallest_ridge = 0\n",
    "biggest_ridge_mse = 0\n",
    "biggest_ridge = 0\n",
    "for i in range (100):\n",
    "    ridge = Ridge(alpha=i*0.1).fit(x_train,y_train)\n",
    "    ridge.predict(x_test)\n",
    "    mse = mean_squared_error(y_test, ridge.predict(x_test))\n",
    "    ridge_coef.append(mse)\n",
    "    index_100.append(0.1*i)\n",
    "    if smallest_ridge_mse > mse:\n",
    "        smallest_ridge_mse = mse\n",
    "        smallest_ridge = 0.01*i\n",
    "    if biggest_ridge_mse < mse:\n",
    "        biggest_ridge_mse = mse\n",
    "        biggest_ridge = 0.01*i\n",
    "plt.plot(index_100, ridge_coef, 'ro')"
   ]
  },
  {
   "cell_type": "code",
   "execution_count": 65,
   "metadata": {},
   "outputs": [
    {
     "data": {
      "text/plain": [
       "[<matplotlib.lines.Line2D at 0x1a278a30b8>]"
      ]
     },
     "execution_count": 65,
     "metadata": {},
     "output_type": "execute_result"
    },
    {
     "data": {
      "image/png": "[encoded data removed]",
      "text/plain": [
       "<Figure size 432x288 with 1 Axes>"
      ]
     },
     "metadata": {
      "needs_background": "light"
     },
     "output_type": "display_data"
    }
   ],
   "source": [
    "plt.plot(index[1:99], ridge_coef[1:99], 'ro')"
   ]
  },
  {
   "cell_type": "code",
   "execution_count": 66,
   "metadata": {},
   "outputs": [
    {
     "data": {
      "text/plain": [
       "0.99"
      ]
     },
     "execution_count": 66,
     "metadata": {},
     "output_type": "execute_result"
    }
   ],
   "source": [
    "smallest_ridge"
   ]
  },
  {
   "cell_type": "markdown",
   "metadata": {},
   "source": [
    "We saw that the bigger the lambda is, the smaller the MSE is."
   ]
  },
  {
   "cell_type": "markdown",
   "metadata": {},
   "source": [
    "We will try to set a very small lambda for lasso, and very big lambda for ridge"
   ]
  },
  {
   "cell_type": "code",
   "execution_count": 69,
   "metadata": {},
   "outputs": [
    {
     "data": {
      "text/plain": [
       "0.3162253478435484"
      ]
     },
     "execution_count": 69,
     "metadata": {},
     "output_type": "execute_result"
    }
   ],
   "source": [
    "lasso = linear_model.Lasso(alpha=0.00000000001).fit(x_train, y_train)\n",
    "lasso.predict(x_test)\n",
    "mean_squared_error(y_test, lasso.predict(x_test))"
   ]
  },
  {
   "cell_type": "code",
   "execution_count": 71,
   "metadata": {},
   "outputs": [
    {
     "data": {
      "text/plain": [
       "0.31677342720586654"
      ]
     },
     "execution_count": 71,
     "metadata": {},
     "output_type": "execute_result"
    }
   ],
   "source": [
    "ridge = Ridge(alpha=1000.0).fit(x_train,y_train)\n",
    "ridge.predict(x_test)\n",
    "mean_squared_error(y_test, ridge.predict(x_test))"
   ]
  },
  {
   "cell_type": "code",
   "execution_count": 72,
   "metadata": {},
   "outputs": [
    {
     "data": {
      "text/html": [
       "<div>\n",
       "<style scoped>\n",
       "    .dataframe tbody tr th:only-of-type {\n",
       "        vertical-align: middle;\n",
       "    }\n",
       "\n",
       "    .dataframe tbody tr th {\n",
       "        vertical-align: top;\n",
       "    }\n",
       "\n",
       "    .dataframe thead th {\n",
       "        text-align: right;\n",
       "    }\n",
       "</style>\n",
       "<table border=\"1\" class=\"dataframe\">\n",
       "  <thead>\n",
       "    <tr style=\"text-align: right;\">\n",
       "      <th></th>\n",
       "      <th>Variable</th>\n",
       "      <th>LR</th>\n",
       "      <th>Lasso</th>\n",
       "      <th>Ridge</th>\n",
       "    </tr>\n",
       "  </thead>\n",
       "  <tbody>\n",
       "    <tr>\n",
       "      <th>0</th>\n",
       "      <td>accommodates</td>\n",
       "      <td>1.611273e-01</td>\n",
       "      <td>0.161127</td>\n",
       "      <td>0.160928</td>\n",
       "    </tr>\n",
       "    <tr>\n",
       "      <th>1</th>\n",
       "      <td>number_of_reviews</td>\n",
       "      <td>-1.017697e-03</td>\n",
       "      <td>-0.001018</td>\n",
       "      <td>-0.001000</td>\n",
       "    </tr>\n",
       "    <tr>\n",
       "      <th>2</th>\n",
       "      <td>bedrooms</td>\n",
       "      <td>1.078203e-01</td>\n",
       "      <td>0.107820</td>\n",
       "      <td>0.105988</td>\n",
       "    </tr>\n",
       "    <tr>\n",
       "      <th>3</th>\n",
       "      <td>Apartment</td>\n",
       "      <td>2.588813e-01</td>\n",
       "      <td>0.258903</td>\n",
       "      <td>0.000259</td>\n",
       "    </tr>\n",
       "    <tr>\n",
       "      <th>4</th>\n",
       "      <td>NYC</td>\n",
       "      <td>-1.135002e+09</td>\n",
       "      <td>0.027641</td>\n",
       "      <td>-0.031891</td>\n",
       "    </tr>\n",
       "    <tr>\n",
       "      <th>5</th>\n",
       "      <td>Real Bed</td>\n",
       "      <td>-6.719509e+08</td>\n",
       "      <td>0.221233</td>\n",
       "      <td>0.113996</td>\n",
       "    </tr>\n",
       "    <tr>\n",
       "      <th>6</th>\n",
       "      <td>House</td>\n",
       "      <td>-1.673640e+06</td>\n",
       "      <td>0.000000</td>\n",
       "      <td>0.000000</td>\n",
       "    </tr>\n",
       "    <tr>\n",
       "      <th>7</th>\n",
       "      <td>SF</td>\n",
       "      <td>-1.135002e+09</td>\n",
       "      <td>0.414829</td>\n",
       "      <td>0.293348</td>\n",
       "    </tr>\n",
       "    <tr>\n",
       "      <th>8</th>\n",
       "      <td>DC</td>\n",
       "      <td>-1.135002e+09</td>\n",
       "      <td>0.159481</td>\n",
       "      <td>0.080294</td>\n",
       "    </tr>\n",
       "    <tr>\n",
       "      <th>9</th>\n",
       "      <td>LA</td>\n",
       "      <td>-1.135002e+09</td>\n",
       "      <td>-0.082904</td>\n",
       "      <td>-0.135216</td>\n",
       "    </tr>\n",
       "  </tbody>\n",
       "</table>\n",
       "</div>"
      ],
      "text/plain": [
       "            Variable            LR     Lasso     Ridge\n",
       "0       accommodates  1.611273e-01  0.161127  0.160928\n",
       "1  number_of_reviews -1.017697e-03 -0.001018 -0.001000\n",
       "2           bedrooms  1.078203e-01  0.107820  0.105988\n",
       "3          Apartment  2.588813e-01  0.258903  0.000259\n",
       "4                NYC -1.135002e+09  0.027641 -0.031891\n",
       "5           Real Bed -6.719509e+08  0.221233  0.113996\n",
       "6              House -1.673640e+06  0.000000  0.000000\n",
       "7                 SF -1.135002e+09  0.414829  0.293348\n",
       "8                 DC -1.135002e+09  0.159481  0.080294\n",
       "9                 LA -1.135002e+09 -0.082904 -0.135216"
      ]
     },
     "execution_count": 72,
     "metadata": {},
     "output_type": "execute_result"
    }
   ],
   "source": [
    "coef_table = pd.DataFrame()\n",
    "coef_table['Variable'] = var_name\n",
    "coef_table['LR'] = reg.coef_\n",
    "coef_table['Lasso'] = lasso.coef_\n",
    "coef_table['Ridge'] = ridge.coef_\n",
    "coef_table.head(10)"
   ]
  },
  {
   "cell_type": "markdown",
   "metadata": {},
   "source": [
    "The linear regression has very extremely high coefficient. This causes us the overfit problem. The Lasso and Ridge coefficients are kind of similar. We will use more simple linear regression to avoid overfit problem."
   ]
  },
  {
   "cell_type": "code",
   "execution_count": 73,
   "metadata": {},
   "outputs": [],
   "source": [
    "x1 = data.filter(['accommodates','number_of_reviews', 'bedrooms','Real Bed','House'], axis=1)\n",
    "y1 = data.log_price\n",
    "\n",
    "x_train1,x_test1,y_train1,y_test1 = train_test_split(x1,y1,random_state = 0)"
   ]
  },
  {
   "cell_type": "code",
   "execution_count": 74,
   "metadata": {},
   "outputs": [
    {
     "data": {
      "text/plain": [
       "0.33719883376131554"
      ]
     },
     "execution_count": 74,
     "metadata": {},
     "output_type": "execute_result"
    }
   ],
   "source": [
    "reg = LinearRegression().fit(x_train1, y_train1)\n",
    "mean_squared_error(y_test1, reg.predict(x_test1))"
   ]
  },
  {
   "cell_type": "markdown",
   "metadata": {},
   "source": [
    "We use cross validation to see how all of this models work."
   ]
  },
  {
   "cell_type": "code",
   "execution_count": 75,
   "metadata": {},
   "outputs": [
    {
     "data": {
      "text/plain": [
       "array([0.32521128, 0.31948688, 0.31618267])"
      ]
     },
     "execution_count": 75,
     "metadata": {},
     "output_type": "execute_result"
    }
   ],
   "source": [
    "from sklearn.model_selection import cross_val_score\n",
    "np.abs(cross_val_score(lasso, x_train, y_train, cv=3,scoring=\"neg_mean_squared_error\"))"
   ]
  },
  {
   "cell_type": "code",
   "execution_count": 76,
   "metadata": {},
   "outputs": [
    {
     "data": {
      "text/plain": [
       "array([0.32690516, 0.32076439, 0.31812713])"
      ]
     },
     "execution_count": 76,
     "metadata": {},
     "output_type": "execute_result"
    }
   ],
   "source": [
    "abs(cross_val_score(ridge, x_train, y_train, cv=3, scoring=\"neg_mean_squared_error\"))"
   ]
  },
  {
   "cell_type": "code",
   "execution_count": 77,
   "metadata": {
    "scrolled": true
   },
   "outputs": [
    {
     "data": {
      "text/plain": [
       "array([5.12103140e+11, 6.74139386e+10, 9.99535218e+08])"
      ]
     },
     "execution_count": 77,
     "metadata": {},
     "output_type": "execute_result"
    }
   ],
   "source": [
    "abs(cross_val_score(reg, x_train, y_train, cv=3))"
   ]
  },
  {
   "cell_type": "code",
   "execution_count": 78,
   "metadata": {},
   "outputs": [
    {
     "data": {
      "text/plain": [
       "array([0.32519923, 0.33955874, 0.33926997])"
      ]
     },
     "execution_count": 78,
     "metadata": {},
     "output_type": "execute_result"
    }
   ],
   "source": [
    "abs(cross_val_score(reg, x_train1, y_train1, cv=3))"
   ]
  },
  {
   "cell_type": "markdown",
   "metadata": {},
   "source": [
    "The lasso model work the best among all of these three according to MSE cross validation test."
   ]
  }
 ],
 "metadata": {
  "kernelspec": {
   "display_name": "Python 3",
   "language": "python",
   "name": "python3"
  },
  "language_info": {
   "codemirror_mode": {
    "name": "ipython",
    "version": 3
   },
   "file_extension": ".py",
   "mimetype": "text/x-python",
   "name": "python",
   "nbconvert_exporter": "python",
   "pygments_lexer": "ipython3",
   "version": "3.7.1"
  }
 },
 "nbformat": 4,
 "nbformat_minor": 2
}
